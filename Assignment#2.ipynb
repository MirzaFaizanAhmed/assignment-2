{
 "cells": [
  {
   "cell_type": "code",
   "execution_count": 8,
   "metadata": {},
   "outputs": [
    {
     "name": "stdout",
     "output_type": "stream",
     "text": [
      "Enter Number = 8\n",
      "Given Number is even\n"
     ]
    }
   ],
   "source": [
    "a=int(input(\"Enter Number = \" ))\n",
    "if (a % 2 )==0:\n",
    "    print(\"Given Number is even\")\n",
    "else:\n",
    "    print(\"Given Number is odd\")"
   ]
  },
  {
   "cell_type": "code",
   "execution_count": 13,
   "metadata": {},
   "outputs": [
    {
     "name": "stdout",
     "output_type": "stream",
     "text": [
      "The length of list is:  5\n"
     ]
    }
   ],
   "source": [
    "arr = len([50, 22, 30,25,57]) \n",
    "print(\"The length of list is: \", arr) "
   ]
  },
  {
   "cell_type": "code",
   "execution_count": 17,
   "metadata": {},
   "outputs": [
    {
     "name": "stdout",
     "output_type": "stream",
     "text": [
      "Sum is:  426\n"
     ]
    }
   ],
   "source": [
    "total = 0\n",
    "list1 = [15, 50, 170, 108, 83]  \n",
    " \n",
    "for ele in range(0, len(list1)): \n",
    "    total = total + list1[ele] \n",
    "  \n",
    "print(\"Sum is: \", total) "
   ]
  },
  {
   "cell_type": "code",
   "execution_count": 21,
   "metadata": {},
   "outputs": [
    {
     "name": "stdout",
     "output_type": "stream",
     "text": [
      "Largest number is: 456\n"
     ]
    }
   ],
   "source": [
    "arr = [105, 76, 22, 56, 456] \n",
    "l=arr[-1]\n",
    "print(\"Largest number is:\", l) "
   ]
  },
  {
   "cell_type": "code",
   "execution_count": 38,
   "metadata": {},
   "outputs": [
    {
     "name": "stdout",
     "output_type": "stream",
     "text": [
      "[1, 1, 2, 3]\n"
     ]
    }
   ],
   "source": [
    "a = [1, 1, 2, 3, 5, 8, 13, 21, 34, 55, 89]\n",
    "\n",
    "newlist = []\n",
    "\n",
    "for x in a:\n",
    "\tif x< 5:\n",
    "\t\tnewlist.append(x)\n",
    "print(newlist) "
   ]
  },
  {
   "cell_type": "code",
   "execution_count": 40,
   "metadata": {},
   "outputs": [
    {
     "name": "stdout",
     "output_type": "stream",
     "text": [
      "Java = 55\n",
      "HTML = 69\n",
      "CSS = 96\n",
      "PHYTON = 89\n",
      "C# = 97\n",
      "A+\n"
     ]
    }
   ],
   "source": [
    "a=int(input(\"Java = \"))\n",
    "b=int(input(\"HTML = \"))\n",
    "c=int(input(\"CSS = \"))\n",
    "d=int(input(\"PHYTON = \"))\n",
    "e=int(input(\"C# = \"))\n",
    "s=(a+b+c+d+e)\n",
    "per=(s*100)/500\n",
    "\n",
    "if per>=80 and per<+100:\n",
    "    print(\"A+\")\n",
    "\n",
    "elif per>=70 and per<=80:\n",
    "    print(\"A\")\n",
    "elif per>=60 and per<=70:\n",
    "    print(\"B\")\n",
    "elif per>=50 and per<60:\n",
    "    print(\"C\")\n",
    "else:\n",
    "    print(\"Fail\")"
   ]
  },
  {
   "cell_type": "code",
   "execution_count": null,
   "metadata": {},
   "outputs": [],
   "source": []
  }
 ],
 "metadata": {
  "kernelspec": {
   "display_name": "Python 3",
   "language": "python",
   "name": "python3"
  },
  "language_info": {
   "codemirror_mode": {
    "name": "ipython",
    "version": 3
   },
   "file_extension": ".py",
   "mimetype": "text/x-python",
   "name": "python",
   "nbconvert_exporter": "python",
   "pygments_lexer": "ipython3",
   "version": "3.7.4"
  }
 },
 "nbformat": 4,
 "nbformat_minor": 2
}
